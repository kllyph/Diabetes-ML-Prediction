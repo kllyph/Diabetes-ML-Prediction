{
 "cells": [
  {
   "cell_type": "markdown",
   "id": "14b70450-5b2b-4b50-8ddb-a1ddc8ba0a4a",
   "metadata": {},
   "source": [
    "## Predicting Diabetes ML"
   ]
  },
  {
   "cell_type": "code",
   "execution_count": 2,
   "id": "c653844d-d576-4e03-b41c-3bcc939a93ec",
   "metadata": {},
   "outputs": [],
   "source": [
    "import pandas as pd\n",
    "import numpy as np\n",
    "from sklearn.model_selection import train_test_split\n",
    "from sklearn.preprocessing import StandardScaler\n",
    "from sklearn.metrics import accuracy_score\n",
    "from sklearn.ensemble import RandomForestClassifier\n",
    "import xgboost as xgb\n",
    "import matplotlib.pyplot as plt"
   ]
  },
  {
   "cell_type": "code",
   "execution_count": 3,
   "id": "d3fbb388-1844-4f1c-92a7-2f8b019af421",
   "metadata": {},
   "outputs": [],
   "source": [
    "# Load data\n",
    "data = pd.read_csv(\"diabetes_prediction_dataset.csv\")\n",
    "\n",
    "# Clean column names\n",
    "data.columns = data.columns.str.strip().str.lower().str.replace(' ', '').str.replace('(', '').str.replace(')', '')\n",
    "\n",
    "# Convert target to numeric\n",
    "data['diabetes'] = pd.to_numeric(data['diabetes'], errors='coerce')\n",
    "\n",
    "# Handle missing values\n",
    "data['bmi'] = data['bmi'].fillna(data['bmi'].median())\n",
    "data['hba1c_level'] = data['hba1c_level'].fillna(data['hba1c_level'].median())\n",
    "data['blood_glucose_level'] = data['blood_glucose_level'].fillna(data['blood_glucose_level'].median())\n",
    "\n",
    "# Encode categorical features\n",
    "data = pd.get_dummies(data, columns=['gender', 'smoking_history'], drop_first=True)\n",
    "\n",
    "# Define features and target\n",
    "X = data.drop(columns=['diabetes'])  # Features\n",
    "y = data['diabetes']  # Target variable"
   ]
  },
  {
   "cell_type": "code",
   "execution_count": null,
   "id": "4f8d080e-b853-45fc-affa-43aec06a880f",
   "metadata": {},
   "outputs": [],
   "source": []
  }
 ],
 "metadata": {
  "kernelspec": {
   "display_name": "Python 3 (ipykernel)",
   "language": "python",
   "name": "python3"
  },
  "language_info": {
   "codemirror_mode": {
    "name": "ipython",
    "version": 3
   },
   "file_extension": ".py",
   "mimetype": "text/x-python",
   "name": "python",
   "nbconvert_exporter": "python",
   "pygments_lexer": "ipython3",
   "version": "3.13.1"
  }
 },
 "nbformat": 4,
 "nbformat_minor": 5
}
