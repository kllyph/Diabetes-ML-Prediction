{
 "cells": [
  {
   "cell_type": "markdown",
   "id": "14b70450-5b2b-4b50-8ddb-a1ddc8ba0a4a",
   "metadata": {},
   "source": [
    "## Predicting Diabetes ML"
   ]
  },
  {
   "cell_type": "code",
   "execution_count": null,
   "id": "c653844d-d576-4e03-b41c-3bcc939a93ec",
   "metadata": {},
   "outputs": [],
   "source": [
    "import pandas as pd\n",
    "import numpy as np\n",
    "from sklearn.model_selection import train_test_split\n",
    "from sklearn.preprocessing import StandardScaler\n",
    "from sklearn.metrics import accuracy_score\n",
    "from sklearn.ensemble import RandomForestClassifier\n",
    "import xgboost as xgb\n",
    "import matplotlib.pyplot as plt"
   ]
  },
  {
   "cell_type": "code",
   "execution_count": null,
   "id": "d3fbb388-1844-4f1c-92a7-2f8b019af421",
   "metadata": {},
   "outputs": [],
   "source": [
    "# Load data\n",
    "data = pd.read_csv(\"diabetes_prediction_dataset.csv\")\n",
    "\n",
    "# Clean column names\n",
    "data.columns = data.columns.str.strip().str.lower().str.replace(' ', '').str.replace('(', '').str.replace(')', '')\n",
    "\n",
    "# Convert target to numeric\n",
    "data['diabetes'] = pd.to_numeric(data['diabetes'], errors='coerce')\n",
    "\n",
    "# Handle missing values\n",
    "data['bmi'] = data['bmi'].fillna(data['bmi'].median())\n",
    "data['hba1c_level'] = data['hba1c_level'].fillna(data['hba1c_level'].median())\n",
    "data['blood_glucose_level'] = data['blood_glucose_level'].fillna(data['blood_glucose_level'].median())\n",
    "\n",
    "# Encode categorical features\n",
    "data = pd.get_dummies(data, columns=['gender', 'smoking_history'], drop_first=True)\n",
    "\n",
    "# Define features and target\n",
    "X = data.drop(columns=['diabetes'])  # Features\n",
    "y = data['diabetes']  # Target variable"
   ]
  },
  {
   "cell_type": "code",
   "execution_count": null,
   "id": "4f8d080e-b853-45fc-affa-43aec06a880f",
   "metadata": {},
   "outputs": [],
   "source": [
    "# Test Each Feature Individually\n",
    "feature_scores = {}\n",
    "\n",
    "for feature in X.columns:\n",
    "    X_single = X[[feature]]  # Select only one feature\n",
    "\n",
    "# Split Data\n",
    "    X_train, X_test, y_train, y_test = train_test_split(X_single, y, test_size=0.2, random_state=46)\n",
    "\n",
    "    # Standardize Data\n",
    "    scaler = StandardScaler()\n",
    "    X_train = scaler.fit_transform(X_train)\n",
    "    X_test = scaler.transform(X_test)\n",
    "\n",
    "    # Train a Random Forest model\n",
    "    model = RandomForestClassifier(random_state=46)\n",
    "    model.fit(X_train, y_train)\n",
    "\n",
    "    # Predict & Evaluate\n",
    "    y_pred = model.predict(X_test)\n",
    "    accuracy = accuracy_score(y_test, y_pred)\n",
    "\n",
    "# Store result\n",
    "    feature_scores[feature] = accuracy\n",
    "\n",
    "# Convert results to a sorted DataFrame\n",
    "feature_accuracy_df = pd.DataFrame.from_dict(feature_scores, orient='index', columns=['Accuracy']).sort_values(by='Accuracy', ascending=False)\n",
    "print(\"Feature Accuracy Scores:\")\n",
    "print(feature_accuracy_df)"
   ]
  },
  {
   "cell_type": "code",
   "execution_count": null,
   "id": "eadc93fb-832b-4531-8448-a4e034cf5c8a",
   "metadata": {},
   "outputs": [],
   "source": [
    "# Train Full Model & Extract Feature Importance\n",
    "X_train, X_test, y_train, y_test = train_test_split(X, y, test_size=0.2, random_state=46)\n",
    "\n",
    "# Standardize Data\n",
    "scaler = StandardScaler()\n",
    "X_train = scaler.fit_transform(X_train)\n",
    "X_test = scaler.transform(X_test)\n",
    "\n",
    "# Train RandomForestClassifier\n",
    "rf_model = RandomForestClassifier(random_state=46)\n",
    "rf_model.fit(X_train, y_train)\n",
    "\n",
    "# Get feature importance\n",
    "importances = rf_model.feature_importances_\n",
    "feature_importance_df = pd.DataFrame({'Feature': X.columns, 'Importance': importances}).sort_values(by='Importance', ascending=False)\n",
    "\n",
    "print(\"\\nFeature Importance Rankings from Random Forest Classifier:\")\n",
    "print(feature_importance_df)\n",
    "\n",
    "# Visualizing Feature Importance\n",
    "plt.figure(figsize=(10, 6))\n",
    "plt.barh(feature_importance_df['Feature'], feature_importance_df['Importance'])\n",
    "plt.xlabel(\"Importance\")\n",
    "plt.ylabel(\"Feature\")\n",
    "plt.title(\"Feature Importance using Random Forest\")\n",
    "plt.gca().invert_yaxis()\n",
    "plt.show()"
   ]
  },
  {
   "cell_type": "code",
   "execution_count": null,
   "id": "0f2aaf34-6c3b-4a3c-a4ab-5eebb9e231bd",
   "metadata": {},
   "outputs": [],
   "source": []
  }
 ],
 "metadata": {
  "kernelspec": {
   "display_name": "Python 3 (ipykernel)",
   "language": "python",
   "name": "python3"
  },
  "language_info": {
   "codemirror_mode": {
    "name": "ipython",
    "version": 3
   },
   "file_extension": ".py",
   "mimetype": "text/x-python",
   "name": "python",
   "nbconvert_exporter": "python",
   "pygments_lexer": "ipython3",
   "version": "3.13.1"
  }
 },
 "nbformat": 4,
 "nbformat_minor": 5
}
